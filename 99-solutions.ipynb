{
 "cells": [
  {
   "cell_type": "markdown",
   "metadata": {},
   "source": [
    "# Exercise"
   ]
  },
  {
   "cell_type": "markdown",
   "metadata": {},
   "source": [
    "## super cell expansion\n",
    "\n",
    "- load Au.cif cif file and convert it to a 2x2x2 supercell"
   ]
  },
  {
   "cell_type": "code",
   "execution_count": null,
   "metadata": {},
   "outputs": [],
   "source": [
    "# hints:\n",
    "# see diffpy.structure.loadStructure function and\n",
    "# diffpy.structure.expansion module."
   ]
  },
  {
   "cell_type": "markdown",
   "metadata": {},
   "source": [
    "## particle generation from crystal structure\n",
    "\n",
    "- create a spherical cutout (radius = 8A) from Au.cif crystal structure"
   ]
  },
  {
   "cell_type": "code",
   "execution_count": null,
   "metadata": {},
   "outputs": [],
   "source": [
    "# hints: see diffpy.structure.expansion module\n",
    "from diffpy.structure import loadStructure\n",
    "from diffpy.structure.expansion.makeellipsoid import makeSphere\n",
    "\n",
    "aubulk = loadStructure('Au.cif')\n",
    "goldsphere = makeSphere(aubulk, 8)\n",
    "goldsphere.write('goldsphere.xyz', 'xyz')\n",
    "print(len(goldsphere))"
   ]
  },
  {
   "cell_type": "markdown",
   "metadata": {},
   "source": [
    "## make cylindrical layer\n",
    "\n",
    "- load Au.cif cif file and expand it to a cylindrical layer with R=30A, thickness=5A.\n",
    "- no direct function to do this - we need to create a big enough block and remove atoms outside of the desired cylinder volume"
   ]
  },
  {
   "cell_type": "code",
   "execution_count": null,
   "metadata": {},
   "outputs": [],
   "source": [
    "# three step process\n",
    "# (1) create a supercell block of sufficient size\n",
    "# (2) find atom nearest to the center of mass\n",
    "# (3) remove any atoms outside of the desired cylinder\n",
    "import numpy as np\n",
    "a = aubulk.lattice.a\n",
    "radius = 30\n",
    "thickness = 4\n",
    "MXY = 2 * int(np.ceil(radius / a))\n",
    "MZ = int(np.ceil(thickness / a + 1))\n",
    "print(\"block multipliers along xy and z\", MXY, MZ)\n",
    "\n",
    "block = supercell(aubulk, [MXY, MXY, MZ])\n",
    "center_cartn = block.xyz_cartn.mean(axis=0)\n",
    "print(\"center:\", center_cartn)\n",
    "vfromcenter = block.xyz_cartn - center_cartn\n",
    "zoffset = vfromcenter[:, 2]\n",
    "roffset = np.power(vfromcenter[:,:2], 2).sum(axis=1)**0.5\n",
    "isoutside = (np.abs(zoffset) > thickness / 2)\n",
    "isoutside = np.logical_or(isoutside, (roffset > radius))\n",
    "print(\"full block atom count:\", len(block))\n",
    "cylinder = block - block[isoutside]\n",
    "print(\"cylinder atom count:\", len(cylinder))\n",
    "cylinder.write('cylinder.xyz', 'xyz')"
   ]
  },
  {
   "cell_type": "markdown",
   "metadata": {},
   "source": [
    "## extract molecule from a CIF file\n",
    "\n",
    "- extract single quinacridone molecule from the quinacridone-beta.cif structure"
   ]
  },
  {
   "cell_type": "code",
   "execution_count": null,
   "metadata": {},
   "outputs": [],
   "source": [
    "%matplotlib notebook\n",
    "import matplotlib\n",
    "matplotlib.rc('figure', figsize=(5, 3.75))\n",
    "from matplotlib.pyplot import subplots\n",
    "from diffpy.srreal.overlapcalculator import OverlapCalculator\n",
    "from diffpy.srreal.pdfcalculator import PDFCalculator\n",
    "from diffpy.srreal.structureadapter import nosymmetry\n",
    "from diffpy.structure import loadStructure\n",
    "from diffpy.structure.expansion import supercell\n",
    "\n",
    "pc = PDFCalculator()\n",
    "pc.baseline = 'zero'\n",
    "qb = loadStructure('quinacridone-beta.cif')\n",
    "qb222 = supercell(qb, [2,2,2])\n",
    "\n",
    "qb.Uisoequiv = 0.003\n",
    "oc = OverlapCalculator()\n",
    "oc.atomradiitable.setDefault(0.75)\n",
    "oc(nosymmetry(qb222))\n",
    "print([len(n) for n in oc.neighborhoods])\n"
   ]
  },
  {
   "cell_type": "code",
   "execution_count": null,
   "metadata": {},
   "outputs": [],
   "source": []
  }
 ],
 "metadata": {
  "kernelspec": {
   "display_name": "Python 3",
   "language": "python",
   "name": "python3"
  },
  "language_info": {
   "codemirror_mode": {
    "name": "ipython",
    "version": 3
   },
   "file_extension": ".py",
   "mimetype": "text/x-python",
   "name": "python",
   "nbconvert_exporter": "python",
   "pygments_lexer": "ipython3",
   "version": "3.6.8"
  }
 },
 "nbformat": 4,
 "nbformat_minor": 2
}

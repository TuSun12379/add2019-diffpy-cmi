{
 "cells": [
  {
   "cell_type": "markdown",
   "metadata": {},
   "source": [
    "# Fit n-PDF of nickel and diffractometer zero\n",
    "\n",
    "In this example we refine constant wavelength neutron PDF data from nickel powder collected at the PEARL instrument at the TU Delft, Netherlands.  The optimum experimental PDF is obtained with a slight correction of the diffractometer zero, which accounts for a slight sample off-centering.  The zero correction affects the observed PDF which is fitted with a PDF simulation from nickel.  Here we use the DiffPy-CMI to fit both the nickel structure parameters and diffractometer zero."
   ]
  },
  {
   "cell_type": "markdown",
   "metadata": {},
   "source": [
    "## Initialization\n",
    "\n",
    "We start with some necessary imports from diffpy packages and define a convenience function for plotting the PDF fit.  It is safe to skip to the [next section](#Configuration)."
   ]
  },
  {
   "cell_type": "code",
   "execution_count": null,
   "metadata": {},
   "outputs": [],
   "source": [
    "# plotting\n",
    "%matplotlib notebook\n",
    "from matplotlib.pyplot import subplots\n",
    "\n",
    "import copy\n",
    "import numpy as np\n",
    "\n",
    "# pdfgetx3 functions to convert PDF on the fly\n",
    "from diffpy.pdfgetx import PDFGetter, PDFConfig, loadData\n",
    "\n",
    "# srfit functions to setup nickel PDF refinement\n",
    "from diffpy.srfit.fitbase import FitRecipe, FitResults\n",
    "from diffpy.srfit.pdf import PDFContribution\n",
    "from diffpy.srfit.structure import constrainAsSpaceGroup\n",
    "from diffpy.Structure import loadStructure\n",
    "# scipy LM optimizer\n",
    "from scipy.optimize import leastsq"
   ]
  },
  {
   "cell_type": "code",
   "execution_count": null,
   "metadata": {},
   "outputs": [],
   "source": [
    "def plotmyfit(recipe, baseline=-4, ax=None):\n",
    "    \"\"\"\n",
    "    Show nice PDF refinement plot.\n",
    "\n",
    "    Plot observed data, simulation and the difference curve offset\n",
    "    to baseline.\n",
    "\n",
    "    Return matplotlib Line objects.\n",
    "    \"\"\"\n",
    "    from matplotlib import pyplot\n",
    "    if ax is None:\n",
    "        ax = pyplot.gca()\n",
    "    x = recipe.cpdf.profile.x\n",
    "    yobs = recipe.cpdf.profile.y\n",
    "    ycalc = recipe.cpdf.evaluate()\n",
    "    ydiff = yobs - ycalc\n",
    "    rv = []\n",
    "    rv += ax.plot(x, yobs, 'o', label='Gobs',\n",
    "                    markeredgecolor='blue', markerfacecolor='none')\n",
    "    rv += ax.plot(x, ycalc, color='red', label='Gcalc')\n",
    "    rv += ax.plot(x, ydiff + baseline, label='Gdiff', color='green')\n",
    "    rv += ax.plot(x, baseline + 0 * x, linestyle=':', color='black')\n",
    "    ax.set_xlabel(u'r (Å)')\n",
    "    ax.set_ylabel(u'G (Å$^{-2}$)')\n",
    "    return rv"
   ]
  },
  {
   "cell_type": "markdown",
   "metadata": {},
   "source": [
    "## Configuration\n",
    "\n",
    "First we define some global constant to specify the PDF fit range, CIF structure model and the text file with powder diffraction data."
   ]
  },
  {
   "cell_type": "code",
   "execution_count": null,
   "metadata": {},
   "outputs": [],
   "source": [
    "# global constants\n",
    "myfitrange = (1, 20)\n",
    "myrstep = 0.01\n",
    "myciffile = \"Ni-9008476.cif\"\n",
    "mypowderdata = 'ni_755tthM.dat'"
   ]
  },
  {
   "cell_type": "markdown",
   "metadata": {},
   "source": [
    "Next we use functions from the `diffpy.pdfgetx` package to create PDF-conversion object `pg0`.  We use it for initial PDF extraction without zero correction and store the results as `r0`, `g0`."
   ]
  },
  {
   "cell_type": "code",
   "execution_count": null,
   "metadata": {},
   "outputs": [],
   "source": [
    "cfg = PDFConfig(mode='neutron',\n",
    "                composition='Ni',\n",
    "                wavelength=1.0989,\n",
    "                dataformat='twotheta',\n",
    "                rstep=myrstep, rmin=myfitrange[0], rmax=myfitrange[1])\n",
    "cfg.qmax = cfg.qmaxinst = 11.2\n",
    "pg0 = PDFGetter(config=cfg)\n",
    "r0, g0 = pg0(filename=mypowderdata)"
   ]
  },
  {
   "cell_type": "markdown",
   "metadata": {},
   "source": [
    "We also define a convenience function `new_nickel_refinement` which creates srfit `FitRecipe` object for PDF refinement of nickel structure.  The resulting fit recipe will be adjusted for zero-refinement later."
   ]
  },
  {
   "cell_type": "code",
   "execution_count": null,
   "metadata": {},
   "outputs": [],
   "source": [
    "def new_nickel_refinement():\n",
    "    \"\"\"Create FitRecipoe for nickel NPDF refinement.\n",
    "    \"\"\"\n",
    "    # setup fit contribution for nickel NPDF\n",
    "    cpdf = PDFContribution('cpdf')\n",
    "    # specify we model neutron PDF at qmax from the configuration file.\n",
    "    # also set the initial observed data to the initial PDF.\n",
    "    cpdf.setScatteringType('N')\n",
    "    cpdf.setQmax(cfg.qmax)\n",
    "    cpdf.profile.setObservedProfile(r0.copy(), g0.copy())\n",
    "    # specify independent nickel structure model and apply symmetry constraints.\n",
    "    cpdf.addStructure('ni', loadStructure(myciffile))\n",
    "    sgpar = constrainAsSpaceGroup(cpdf.ni.phase, 'F m -3 m')\n",
    "    # create FitRecipe to manage the refinement\n",
    "    nfit = FitRecipe()\n",
    "    nfit.addContribution(cpdf)\n",
    "    nfit.addVar(cpdf.scale)\n",
    "    nfit.addVar(cpdf.qdamp, value=0.03)\n",
    "    nfit.addVar(cpdf.qbroad, value=0.0, fixed=True)\n",
    "    nfit.addVar(sgpar.latpars.a)\n",
    "    nfit.addVar(sgpar.adppars.Uiso_0, name='uiso', value=0.004)\n",
    "    nfit.addVar(cpdf.ni.delta2, value=3.0)\n",
    "    # silence diagnostic output.\n",
    "    nfit.clearFitHooks()\n",
    "    # override internal calculator step\n",
    "    return nfit"
   ]
  },
  {
   "cell_type": "markdown",
   "metadata": {},
   "source": [
    "## Fit nickel to initial PDF (no zero correction)"
   ]
  },
  {
   "cell_type": "code",
   "execution_count": null,
   "metadata": {},
   "outputs": [],
   "source": [
    "nifit0 = new_nickel_refinement()\n",
    "leastsq(nifit0.residual, nifit0.values)\n",
    "nires0 = FitResults(nifit0)\n",
    "\n",
    "fig0, ax0 = subplots();\n",
    "plotmyfit(nifit0, ax=ax0)\n",
    "print(nires0)"
   ]
  },
  {
   "cell_type": "markdown",
   "metadata": {},
   "source": [
    "**Outcome**\n",
    "\n",
    "The PDF fit of non-corrected data shows fair agreement, but notable differences over 10 Å and an elevated Rw = 0.18."
   ]
  },
  {
   "cell_type": "markdown",
   "metadata": {},
   "source": [
    "## Fit nickel PDF and diffractometer zero"
   ]
  },
  {
   "cell_type": "markdown",
   "metadata": {},
   "source": [
    "We first define a new PDF-conversion object `pg1` to make it separate from initial conversion.  Next we define a helper function `gfixzero` to compute PDF when the actual zero angle is at `zero` in diffractometer units."
   ]
  },
  {
   "cell_type": "code",
   "execution_count": null,
   "metadata": {},
   "outputs": [],
   "source": [
    "pg1 = pg0.copy()\n",
    "def gfixzero(zero):\n",
    "    r, g = pg1(twothetazero=zero)\n",
    "    return g\n",
    "\n",
    "# add sanity check\n",
    "assert np.array_equal(g0, gfixzero(0))"
   ]
  },
  {
   "cell_type": "markdown",
   "metadata": {},
   "source": [
    "Next we create a separate fit recipe for a new refinement.  We change it to tie the observed PDF to the `gfixzero` result at a refinable `zero` argument."
   ]
  },
  {
   "cell_type": "code",
   "execution_count": null,
   "metadata": {
    "scrolled": false
   },
   "outputs": [],
   "source": [
    "nifit1 = new_nickel_refinement()\n",
    "nifit1.newVar('zero', value=0)\n",
    "nifit1.registerFunction(gfixzero, name='gfixzero')\n",
    "nifit1.constrain(nifit1.cpdf.y, 'gfixzero')"
   ]
  },
  {
   "cell_type": "markdown",
   "metadata": {},
   "source": [
    "Now we run least squares fit with the new recipe and refine also the `zero` offset in addition to structure variables."
   ]
  },
  {
   "cell_type": "code",
   "execution_count": null,
   "metadata": {},
   "outputs": [],
   "source": [
    "leastsq(nifit1.residual, nifit1.values)\n",
    "nires1 = FitResults(nifit1)\n",
    "\n",
    "fig1, ax1 = subplots();\n",
    "plotmyfit(nifit1, ax=ax1)\n",
    "print(nires1)"
   ]
  },
  {
   "cell_type": "markdown",
   "metadata": {},
   "source": [
    "**Outcome**\n",
    "\n",
    "With a refined diffractometer zero the PDF fit shows excellent agreement with a very low Rw = 0.05.  The zero offset refined to -0.37 degrees."
   ]
  },
  {
   "cell_type": "code",
   "execution_count": null,
   "metadata": {},
   "outputs": [],
   "source": [
    "# export the results\n",
    "def myexport():\n",
    "    \"Convenience function to save nickel fit results.\"\n",
    "    nifit0.cpdf.profile.savetxt('nifit0.dat', fmt='%g')\n",
    "    nires0.saveResults('nifit0.res')\n",
    "    nifit1.cpdf.profile.savetxt('nifit1.dat', fmt='%g')\n",
    "    nires1.saveResults('nifit1.res')\n",
    "    return\n",
    "\n",
    "## uncomment the line below to export fit results\n",
    "#myexport()"
   ]
  }
 ],
 "metadata": {
  "anaconda-cloud": {},
  "kernelspec": {
   "display_name": "Python 2",
   "language": "python",
   "name": "python2"
  },
  "language_info": {
   "codemirror_mode": {
    "name": "ipython",
    "version": 2
   },
   "file_extension": ".py",
   "mimetype": "text/x-python",
   "name": "python",
   "nbconvert_exporter": "python",
   "pygments_lexer": "ipython2",
   "version": "2.7.15"
  }
 },
 "nbformat": 4,
 "nbformat_minor": 2
}

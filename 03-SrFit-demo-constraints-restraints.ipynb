{
 "cells": [
  {
   "cell_type": "markdown",
   "metadata": {},
   "source": [
    "# SrFit example for a simple linear fit to a noisy data."
   ]
  },
  {
   "cell_type": "markdown",
   "metadata": {},
   "source": [
    "Simulate linear data with some random Gaussian noise and plot the generated \"observed\" data (xobs, yobs)."
   ]
  },
  {
   "cell_type": "code",
   "execution_count": 1,
   "metadata": {},
   "outputs": [
    {
     "data": {
      "image/png": "[encoded data removed]",
      "text/plain": [
       "<Figure size 432x288 with 1 Axes>"
      ]
     },
     "metadata": {
      "needs_background": "light"
     },
     "output_type": "display_data"
    }
   ],
   "source": [
    "from __future__ import print_function\n",
    "%matplotlib inline\n",
    "from matplotlib.pyplot import plot, title\n",
    "\n",
    "import numpy as np\n",
    "xobs = np.arange(-10, 10.1)\n",
    "dyobs = 0.3 * np.ones_like(xobs)\n",
    "yobs = 0.5 * xobs + 3 + dyobs * np.random.randn(xobs.size)\n",
    "plot(xobs, yobs, 'x')\n",
    "title('y = 0.5*x + 3 generated with a normal noise at sigma=0.3');"
   ]
  },
  {
   "cell_type": "markdown",
   "metadata": {},
   "source": [
    "We are going to define a line fitting regression using SrFit.\n",
    "At first we create a SrFit Profile object that holds the observed data."
   ]
  },
  {
   "cell_type": "code",
   "execution_count": 2,
   "metadata": {},
   "outputs": [],
   "source": [
    "from diffpy.srfit.fitbase import Profile\n",
    "linedata = Profile()\n",
    "linedata.setObservedProfile(xobs, yobs, dyobs)"
   ]
  },
  {
   "cell_type": "markdown",
   "metadata": {},
   "source": [
    "The second step is to create a FitContribution object, which associates observed profile with a mathematical model for the dependent variable."
   ]
  },
  {
   "cell_type": "code",
   "execution_count": 3,
   "metadata": {},
   "outputs": [],
   "source": [
    "from diffpy.srfit.fitbase import FitContribution\n",
    "linefit = FitContribution('linefit')\n",
    "linefit.setProfile(linedata)\n",
    "linefit.setEquation(\"A * x + B\")"
   ]
  },
  {
   "cell_type": "markdown",
   "metadata": {},
   "source": [
    " SrFit objects can be examined by calling their **show()** function.  SrFit\n",
    " parses the model equation and finds two parameters A, B at independent\n",
    " variable x.  The values of parameters A, B are at this stage undefined.\n"
   ]
  },
  {
   "cell_type": "code",
   "execution_count": 4,
   "metadata": {},
   "outputs": [
    {
     "name": "stdout",
     "output_type": "stream",
     "text": [
      "Parameters\n",
      "------------------------------------------------------------------------------\n",
      "x   [-10.  -9.  -8.  -7.  -6.  -5.  -4.  -3.  -2.  -1.   0.   1.   2.   3.\n",
      "   \n",
      "y   [-2.52996905 -1.70190978 -0.76241339 -0.34180649 -0.08813641  0.42593539\n",
      " \n",
      "dy  [0.3 0.3 0.3 0.3 0.3 0.3 0.3 0.3 0.3 0.3 0.3 0.3 0.3 0.3 0.3 0.3 0.3 0.3\n",
      " \n",
      "B   None\n",
      "A   None\n"
     ]
    }
   ],
   "source": [
    "linefit.show()"
   ]
  },
  {
   "cell_type": "markdown",
   "metadata": {},
   "source": [
    "We can set A and B to some specific values and calculate model\n",
    "observations.  The x and y attributes of the FitContribution are \n",
    "the observed values, which may be re-sampled or truncated to a shorter \n",
    "fitting range."
   ]
  },
  {
   "cell_type": "code",
   "execution_count": 5,
   "metadata": {},
   "outputs": [
    {
     "name": "stdout",
     "output_type": "stream",
     "text": [
      "Parameter(A) 3\n",
      "Parameter(B) 5\n"
     ]
    }
   ],
   "source": [
    "linefit.A\n",
    "linefit.A = 3\n",
    "linefit.B = 5\n",
    "print(linefit.A, linefit.A.value)\n",
    "print(linefit.B, linefit.B.value)"
   ]
  },
  {
   "cell_type": "markdown",
   "metadata": {},
   "source": [
    "`linefit.evaluate()` returns the modeled values and `linefit.residual()`,\n",
    "the difference between observed and modeled data scaled by estimated\n",
    "standard deviations."
   ]
  },
  {
   "cell_type": "code",
   "execution_count": 6,
   "metadata": {},
   "outputs": [
    {
     "name": "stdout",
     "output_type": "stream",
     "text": [
      "linefit.evaluate() = [-25. -22. -19. -16. -13. -10.  -7.  -4.  -1.   2.   5.   8.  11.  14.\n",
      "  17.  20.  23.  26.  29.  32.  35.]\n",
      "linefit.residual() = [-74.90010316 -67.66030072 -60.79195538 -52.19397837 -43.0395453\n",
      " -34.75311795 -25.27353269 -18.0940812   -9.60790418  -0.76985364\n",
      "   7.45190484  15.21304337  21.64017576  30.13508961  37.63866569\n",
      "  48.21923579  55.05860898  63.78462426  73.91537137  82.82127424\n",
      "  90.76017463]\n"
     ]
    },
    {
     "data": {
      "text/plain": [
       "Text(0.5,1,'Line simulated at A=3, B=5')"
      ]
     },
     "execution_count": 6,
     "metadata": {},
     "output_type": "execute_result"
    },
    {
     "data": {
      "image/png": "[encoded data removed]",
      "text/plain": [
       "<Figure size 432x288 with 1 Axes>"
      ]
     },
     "metadata": {
      "needs_background": "light"
     },
     "output_type": "display_data"
    }
   ],
   "source": [
    "print(\"linefit.evaluate() =\", linefit.evaluate())\n",
    "print(\"linefit.residual() =\", linefit.residual())\n",
    "plot(xobs, yobs, 'x', linedata.x, linefit.evaluate(), '-')\n",
    "title('Line simulated at A=3, B=5')"
   ]
  },
  {
   "cell_type": "markdown",
   "metadata": {},
   "source": [
    " We want to find the optimum model parameters that fit the simulated curve\n",
    " to the observations.  This is done by associating FitContribution with\n",
    " a FitRecipe object.  FitRecipe can manage multiple fit contributions and\n",
    " optimize all models to fit their respective profiles."
   ]
  },
  {
   "cell_type": "code",
   "execution_count": 7,
   "metadata": {},
   "outputs": [],
   "source": [
    "from diffpy.srfit.fitbase import FitRecipe\n",
    "rec = FitRecipe()"
   ]
  },
  {
   "cell_type": "markdown",
   "metadata": {},
   "source": [
    "The `clearFitHooks()` function suppresses printout of iteration numbers.  The `addContribution()` function includes the specified FitContribution in the FitRecipe, which acts as a top-level manager of all associated fits. "
   ]
  },
  {
   "cell_type": "code",
   "execution_count": 8,
   "metadata": {
    "scrolled": true
   },
   "outputs": [
    {
     "name": "stdout",
     "output_type": "stream",
     "text": [
      "Parameters\n",
      "------------------------------------------------------------------------------\n",
      "linefit.x   [-10.  -9.  -8.  -7.  -6.  -5.  -4.  -3.  -2.  -1.   0.   1.   2. \n",
      "linefit.y   [-2.52996905 -1.70190978 -0.76241339 -0.34180649 -0.08813641  0.42\n",
      "linefit.dy  [0.3 0.3 0.3 0.3 0.3 0.3 0.3 0.3 0.3 0.3 0.3 0.3 0.3 0.3 0.3 0.3 0\n",
      "linefit.B   5\n",
      "linefit.A   3\n"
     ]
    }
   ],
   "source": [
    "rec.clearFitHooks()\n",
    "rec.addContribution(linefit)\n",
    "rec.show()"
   ]
  },
  {
   "cell_type": "markdown",
   "metadata": {},
   "source": [
    " FitContributions may have many parameters.  We need to tell the recipe\n",
    " which of them should be controlled and potentially optimized in a fit."
   ]
  },
  {
   "cell_type": "code",
   "execution_count": 9,
   "metadata": {},
   "outputs": [
    {
     "data": {
      "text/plain": [
       "<diffpy.srfit.fitbase.parameter.ParameterProxy at 0x11449f0b8>"
      ]
     },
     "execution_count": 9,
     "metadata": {},
     "output_type": "execute_result"
    }
   ],
   "source": [
    "rec.addVar(rec.linefit.A)\n",
    "rec.addVar(rec.linefit.B)"
   ]
  },
  {
   "cell_type": "markdown",
   "metadata": {},
   "source": [
    " The call of the addVar function also created two attributes A and B for the rec object,\n",
    " which link to the A and B parameters of the linefit contribution.\n"
   ]
  },
  {
   "cell_type": "code",
   "execution_count": 10,
   "metadata": {},
   "outputs": [
    {
     "name": "stdout",
     "output_type": "stream",
     "text": [
      "rec.A = ParameterProxy(A)\n",
      "rec.A.value = 3\n"
     ]
    }
   ],
   "source": [
    "print(\"rec.A =\", rec.A)\n",
    "print(\"rec.A.value =\", rec.A.value)"
   ]
  },
  {
   "cell_type": "markdown",
   "metadata": {},
   "source": [
    " The names of the declared variables are stored in the `rec.names` attribute\n",
    " and the corresponding values in `rec.values`."
   ]
  },
  {
   "cell_type": "code",
   "execution_count": 11,
   "metadata": {},
   "outputs": [
    {
     "name": "stdout",
     "output_type": "stream",
     "text": [
      "rec.values = [3 5]\n",
      "rec.names = ['A', 'B']\n"
     ]
    }
   ],
   "source": [
    "print(\"rec.values =\", rec.values)\n",
    "print(\"rec.names =\", rec.names)"
   ]
  },
  {
   "cell_type": "markdown",
   "metadata": {},
   "source": [
    " Finally the recipe objects provides a residual() function to calculate\n",
    " the difference between the observed and simulated values.  The residual\n",
    " function can accept a list of new variable values in the same order as\n",
    " rec.names."
   ]
  },
  {
   "cell_type": "code",
   "execution_count": 12,
   "metadata": {},
   "outputs": [
    {
     "name": "stdout",
     "output_type": "stream",
     "text": [
      "rec.residual() = [-74.90010316 -67.66030072 -60.79195538 -52.19397837 -43.0395453\n",
      " -34.75311795 -25.27353269 -18.0940812   -9.60790418  -0.76985364\n",
      "   7.45190484  15.21304337  21.64017576  30.13508961  37.63866569\n",
      "  48.21923579  55.05860898  63.78462426  73.91537137  82.82127424\n",
      "  90.76017463]\n",
      "rec.residual([2, 4]) = [-44.90010316 -40.99363406 -37.45862205 -32.19397837 -26.37287864\n",
      " -21.41978462 -15.27353269 -11.42741453  -6.27457084  -0.76985364\n",
      "   4.1185715    8.54637671  11.64017576  16.80175628  20.97199903\n",
      "  28.21923579  31.72527564  37.11795759  43.91537137  49.48794091\n",
      "  54.09350796]\n"
     ]
    }
   ],
   "source": [
    "print(\"rec.residual() =\", rec.residual())\n",
    "print(\"rec.residual([2, 4]) =\", rec.residual([2, 4]))"
   ]
  },
  {
   "cell_type": "markdown",
   "metadata": {},
   "source": [
    "The FitRecipe.residual function can be directly used with the scipy\n",
    "leastsq function for minimizing a sum of squares."
   ]
  },
  {
   "cell_type": "code",
   "execution_count": 13,
   "metadata": {},
   "outputs": [
    {
     "data": {
      "text/plain": [
       "(array([0.51478759, 3.00637434]), 3)"
      ]
     },
     "execution_count": 13,
     "metadata": {},
     "output_type": "execute_result"
    }
   ],
   "source": [
    "from scipy.optimize import leastsq\n",
    "leastsq(rec.residual, rec.values)"
   ]
  },
  {
   "cell_type": "markdown",
   "metadata": {},
   "source": [
    " Recipe variables and the linked line-function parameters are set to the\n",
    " new optimized values."
   ]
  },
  {
   "cell_type": "code",
   "execution_count": 14,
   "metadata": {},
   "outputs": [
    {
     "name": "stdout",
     "output_type": "stream",
     "text": [
      "['A', 'B'] --> [0.51478759 3.00637434]\n",
      "Parameters\n",
      "------------------------------------------------------------------------------\n",
      "x   [-10.  -9.  -8.  -7.  -6.  -5.  -4.  -3.  -2.  -1.   0.   1.   2.   3.\n",
      "   \n",
      "y   [-2.52996905 -1.70190978 -0.76241339 -0.34180649 -0.08813641  0.42593539\n",
      " \n",
      "dy  [0.3 0.3 0.3 0.3 0.3 0.3 0.3 0.3 0.3 0.3 0.3 0.3 0.3 0.3 0.3 0.3 0.3 0.3\n",
      " \n",
      "B   3.0063743428355783\n",
      "A   0.514787593824258\n"
     ]
    }
   ],
   "source": [
    "print(rec.names, \"-->\", rec.values)\n",
    "linefit.show()"
   ]
  },
  {
   "cell_type": "markdown",
   "metadata": {},
   "source": [
    " The calculated function is available in the `ycalc` attribute of the profile.\n",
    " It can be also accessed from the `linefit` contribution attribute of the\n",
    " recipe as `rec.linefit.profile.ycalc`."
   ]
  },
  {
   "cell_type": "code",
   "execution_count": 15,
   "metadata": {},
   "outputs": [
    {
     "data": {
      "image/png": "[encoded data removed]",
      "text/plain": [
       "<Figure size 432x288 with 1 Axes>"
      ]
     },
     "metadata": {
      "needs_background": "light"
     },
     "output_type": "display_data"
    }
   ],
   "source": [
    "plot(linedata.x, linedata.y, 'x', linedata.x, linedata.ycalc, '-')\n",
    "title('Line fit using the leastsq least-squares optimizer');"
   ]
  },
  {
   "cell_type": "markdown",
   "metadata": {},
   "source": [
    "The `FitRecipe.scalarResidual()` function returns the sum of squares and can\n",
    "be used with a minimizer that requires a scalar function:"
   ]
  },
  {
   "cell_type": "code",
   "execution_count": 16,
   "metadata": {},
   "outputs": [
    {
     "name": "stdout",
     "output_type": "stream",
     "text": [
      "Optimization terminated successfully.\n",
      "         Current function value: 23.478116\n",
      "         Iterations: 54\n",
      "         Function evaluations: 103\n",
      "['A', 'B'] --> [0.514788   3.00642642]\n"
     ]
    },
    {
     "data": {
      "image/png": "[encoded data removed]",
      "text/plain": [
       "<Figure size 432x288 with 1 Axes>"
      ]
     },
     "metadata": {
      "needs_background": "light"
     },
     "output_type": "display_data"
    }
   ],
   "source": [
    "from scipy.optimize import fmin\n",
    "fmin(rec.scalarResidual, [1, 1])\n",
    "print(rec.names, \"-->\", rec.values)\n",
    "plot(linedata.x, linedata.y, 'x', linedata.x, linedata.ycalc, '-')\n",
    "title('Line fit using the fmin scalar optimizer');"
   ]
  },
  {
   "cell_type": "markdown",
   "metadata": {},
   "source": [
    "For a converged fit recipe, the details of the fit can be extracted\n",
    " with the FitResults class."
   ]
  },
  {
   "cell_type": "code",
   "execution_count": 17,
   "metadata": {},
   "outputs": [
    {
     "name": "stdout",
     "output_type": "stream",
     "text": [
      "Overall\n",
      "------------------------------------------------------------------------------\n",
      "Residual       23.47811597\n",
      "Contributions  23.47811597\n",
      "Restraints     0.00000000\n",
      "Chi2           23.47811597\n",
      "Reduced Chi2   1.23569031\n",
      "Rw             0.07305008\n",
      "\n",
      "Variables\n",
      "------------------------------------------------------------------------------\n",
      "A  5.14788001e-01 +/- 1.08112495e-02\n",
      "B  3.00642642e+00 +/- 6.54653675e-02\n",
      "\n",
      "Variable Correlations greater than 25%\n",
      "------------------------------------------------------------------------------\n",
      "No correlations greater than 25%\n",
      "\n"
     ]
    }
   ],
   "source": [
    "from diffpy.srfit.fitbase import FitResults\n",
    "res = FitResults(rec)\n",
    "print(res)"
   ]
  },
  {
   "cell_type": "markdown",
   "metadata": {},
   "source": [
    "Variables defined in the recipe can be fixed to a constant value."
   ]
  },
  {
   "cell_type": "code",
   "execution_count": 18,
   "metadata": {},
   "outputs": [],
   "source": [
    "rec.fix(B=0)"
   ]
  },
  {
   "cell_type": "markdown",
   "metadata": {},
   "source": [
    "The fixed variables can be checked using the \"fixednames\" and\n",
    " \"fixedvalues\" attributes of a recipe."
   ]
  },
  {
   "cell_type": "code",
   "execution_count": 19,
   "metadata": {},
   "outputs": [
    {
     "name": "stdout",
     "output_type": "stream",
     "text": [
      "free: ['A'] --> ['A']\n",
      "fixed: ['B'] --> [0]\n"
     ]
    }
   ],
   "source": [
    "print(\"free:\", rec.names, \"-->\", rec.names)\n",
    "print(\"fixed:\", rec.fixednames, \"-->\", rec.fixedvalues)"
   ]
  },
  {
   "cell_type": "markdown",
   "metadata": {},
   "source": [
    "The fit can be rerun with a constant variable B."
   ]
  },
  {
   "cell_type": "code",
   "execution_count": 20,
   "metadata": {},
   "outputs": [
    {
     "name": "stdout",
     "output_type": "stream",
     "text": [
      "Overall\n",
      "------------------------------------------------------------------------------\n",
      "Residual       2132.41167745\n",
      "Contributions  2132.41167745\n",
      "Restraints     0.00000000\n",
      "Chi2           2132.41167745\n",
      "Reduced Chi2   106.62058387\n",
      "Rw             0.69618492\n",
      "\n",
      "Variables\n",
      "------------------------------------------------------------------------------\n",
      "A  5.14787594e-01 +/- 1.08112496e-02\n",
      "\n",
      "Fixed Variables\n",
      "------------------------------------------------------------------------------\n",
      "B  0.00000000e+00\n",
      "\n",
      "Variable Correlations greater than 25%\n",
      "------------------------------------------------------------------------------\n",
      "No correlations greater than 25%\n",
      "\n"
     ]
    },
    {
     "data": {
      "image/png": "[encoded data removed]",
      "text/plain": [
       "<Figure size 432x288 with 1 Axes>"
      ]
     },
     "metadata": {
      "needs_background": "light"
     },
     "output_type": "display_data"
    }
   ],
   "source": [
    "leastsq(rec.residual, rec.values)\n",
    "print(FitResults(rec))\n",
    "plot(linedata.x, linedata.y, 'x', linedata.x, linedata.ycalc, '-')\n",
    "title('Line fit for variable B fixed to B=0');"
   ]
  },
  {
   "cell_type": "markdown",
   "metadata": {},
   "source": [
    "Fixed variables may be released with the `free()` function.\n",
    " Calling it as `free(\"all\")` releases all fixed variables."
   ]
  },
  {
   "cell_type": "code",
   "execution_count": 21,
   "metadata": {},
   "outputs": [],
   "source": [
    "rec.free('all')"
   ]
  },
  {
   "cell_type": "markdown",
   "metadata": {},
   "source": [
    "Variables may be constrained to a result of an expression."
   ]
  },
  {
   "cell_type": "code",
   "execution_count": 22,
   "metadata": {},
   "outputs": [],
   "source": [
    "rec.constrain(rec.A, \"2 * B\")"
   ]
  },
  {
   "cell_type": "markdown",
   "metadata": {},
   "source": [
    "Perform linear fit where the slope value must be two times the offset."
   ]
  },
  {
   "cell_type": "code",
   "execution_count": 23,
   "metadata": {},
   "outputs": [
    {
     "name": "stdout",
     "output_type": "stream",
     "text": [
      "Overall\n",
      "------------------------------------------------------------------------------\n",
      "Residual       1774.81247680\n",
      "Contributions  1774.81247680\n",
      "Restraints     0.00000000\n",
      "Chi2           1774.81247680\n",
      "Reduced Chi2   88.74062384\n",
      "Rw             0.63513394\n",
      "\n",
      "Variables\n",
      "------------------------------------------------------------------------------\n",
      "B  2.76009918e-01 +/- 5.38729016e-03\n",
      "\n",
      "Variable Correlations greater than 25%\n",
      "------------------------------------------------------------------------------\n",
      "No correlations greater than 25%\n",
      "\n"
     ]
    },
    {
     "data": {
      "image/png": "[encoded data removed]",
      "text/plain": [
       "<Figure size 432x288 with 1 Axes>"
      ]
     },
     "metadata": {
      "needs_background": "light"
     },
     "output_type": "display_data"
    }
   ],
   "source": [
    "leastsq(rec.residual, rec.values)\n",
    "print(FitResults(rec))\n",
    "plot(linedata.x, linedata.y, 'x', linedata.x, linedata.ycalc, '-')\n",
    "title('Line fit for variable A constrained to A = 2*B');"
   ]
  },
  {
   "cell_type": "markdown",
   "metadata": {},
   "source": [
    "Constraint expressions can be removed by calling the unconstrain function."
   ]
  },
  {
   "cell_type": "code",
   "execution_count": 24,
   "metadata": {},
   "outputs": [],
   "source": [
    "rec.unconstrain(rec.A)"
   ]
  },
  {
   "cell_type": "markdown",
   "metadata": {},
   "source": [
    " Variables may be restrained to a specific range.  Here \"ub\" is the upper\n",
    " boundary and \"sig\" acts as a standard deviation for ((x - ub)/sig)**2\n",
    " penalty function."
   ]
  },
  {
   "cell_type": "code",
   "execution_count": 25,
   "metadata": {},
   "outputs": [],
   "source": [
    "arst = rec.restrain(rec.A, ub=0.2, sig=0.001)"
   ]
  },
  {
   "cell_type": "markdown",
   "metadata": {},
   "source": [
    "Perform fit with the line slope restrained to a maximum value of 0.2:"
   ]
  },
  {
   "cell_type": "code",
   "execution_count": 26,
   "metadata": {},
   "outputs": [
    {
     "name": "stdout",
     "output_type": "stream",
     "text": [
      "Overall\n",
      "------------------------------------------------------------------------------\n",
      "Residual       864.06692821\n",
      "Contributions  856.93623100\n",
      "Restraints     7.13069722\n",
      "Chi2           856.93623100\n",
      "Reduced Chi2   42.84681155\n",
      "Rw             0.44132988\n",
      "\n",
      "Variables\n",
      "------------------------------------------------------------------------------\n",
      "A  2.02670337e-01 +/- 9.95749479e-04\n",
      "B  3.00637434e+00 +/- 6.54653670e-02\n",
      "\n",
      "Variable Correlations greater than 25%\n",
      "------------------------------------------------------------------------------\n",
      "No correlations greater than 25%\n",
      "\n"
     ]
    },
    {
     "data": {
      "image/png": "[encoded data removed]",
      "text/plain": [
       "<Figure size 432x288 with 1 Axes>"
      ]
     },
     "metadata": {
      "needs_background": "light"
     },
     "output_type": "display_data"
    }
   ],
   "source": [
    "leastsq(rec.residual, rec.values)\n",
    "print(FitResults(rec))\n",
    "plot(linedata.x, linedata.y, 'x', linedata.x, linedata.ycalc, '-')\n",
    "title('Line fit with A restrained to an upper bound of 0.2');"
   ]
  }
 ],
 "metadata": {
  "kernelspec": {
   "display_name": "Python 3",
   "language": "python",
   "name": "python3"
  },
  "language_info": {
   "codemirror_mode": {
    "name": "ipython",
    "version": 3
   },
   "file_extension": ".py",
   "mimetype": "text/x-python",
   "name": "python",
   "nbconvert_exporter": "python",
   "pygments_lexer": "ipython3",
   "version": "3.6.8"
  }
 },
 "nbformat": 4,
 "nbformat_minor": 1
}

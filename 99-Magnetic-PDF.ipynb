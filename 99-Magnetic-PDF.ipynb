{
 "cells": [
  {
   "cell_type": "markdown",
   "metadata": {},
   "source": [
    "# Example mPDF refinement for MnO"
   ]
  },
  {
   "cell_type": "code",
   "execution_count": null,
   "metadata": {},
   "outputs": [],
   "source": [
    "from __future__ import print_function\n",
    "%matplotlib notebook\n",
    "\n",
    "### Import the necessary libraries\n",
    "import numpy as np\n",
    "import matplotlib.pyplot as plt\n",
    "from diffpy.mpdf import *\n",
    "from diffpy.structure import loadStructure\n",
    "from diffpy.utils.parsers import loadData"
   ]
  },
  {
   "cell_type": "markdown",
   "metadata": {},
   "source": [
    "### Load in the atomic PDF fit (the residual will serve as the mPDF data)."
   ]
  },
  {
   "cell_type": "code",
   "execution_count": null,
   "metadata": {},
   "outputs": [],
   "source": [
    "r, Gcalc, Gdiff = loadData('MnOfit_PDFgui.fgr', unpack=True, usecols=[0, 1, 3])\n",
    "G = Gcalc + Gdiff\n",
    "\n",
    "### Plot the fit\n",
    "fig = plt.figure()\n",
    "ax = fig.add_subplot(111)\n",
    "ax.set_xlabel(r'r ($\\mathdefault{\\AA}$)')\n",
    "ax.set_ylabel(r'G ($\\mathdefault{\\AA^{-2}}$)')\n",
    "\n",
    "ax.plot(r, G, marker='o',mec='b',mfc='None',linestyle='None')\n",
    "ax.plot(r, Gcalc, 'r-')\n",
    "ax.plot(r, Gdiff + 1.1*G.min(),'g-');"
   ]
  },
  {
   "cell_type": "markdown",
   "metadata": {},
   "source": [
    "### Generate the magnetic structure from the refined atomic structure"
   ]
  },
  {
   "cell_type": "code",
   "execution_count": null,
   "metadata": {},
   "outputs": [],
   "source": [
    "### Load in the refined atomic structure\n",
    "struc = loadStructure('MnO_struc.stru')\n",
    "\n",
    "### Create a magnetic species object (assuming a given propagation vector and basis vectors)\n",
    "msp = MagSpecies(struc,magIdxs=[0,1,2,3],ffparamkey='Mn2',rmaxAtoms=50,\n",
    "                basisvecs=np.array([1,-1,0]),kvecs=np.array([0.5,0.5,0.5]),label='Mn2+')\n",
    "\n",
    "### Create a magnetic structure object and load in the Mn2+ magnetic species\n",
    "mstr=MagStructure()\n",
    "mstr.loadSpecies(msp)\n",
    "\n",
    "### Generate the spin positions and orientations\n",
    "mstr.makeAll()\n",
    "\n",
    "### Visualize the magnetic structure\n",
    "uc = struc[:4].xyz\n",
    "visatoms = uc.copy()\n",
    "visatoms = np.concatenate((visatoms,visatoms+np.array([0,0,1]),visatoms+np.array([0,1,0]),visatoms+np.array([0,0,1])))\n",
    "visatoms = struc.lattice.cartesian(visatoms)\n",
    "visspins = mstr.spinsFromAtoms(visatoms,fractional=False)\n",
    "mstr.visualize(visatoms,visspins);"
   ]
  },
  {
   "cell_type": "markdown",
   "metadata": {},
   "source": [
    "### Create the mPDF calculator object"
   ]
  },
  {
   "cell_type": "code",
   "execution_count": null,
   "metadata": {},
   "outputs": [],
   "source": [
    "mc = MPDFcalculator(mstr)\n",
    "\n",
    "### Quick check of the calculated mPDF\n",
    "mc.plot(normalized=False);"
   ]
  },
  {
   "cell_type": "markdown",
   "metadata": {},
   "source": [
    "### Set up the fit in SrFit (just like an atomic PDF fit)"
   ]
  },
  {
   "cell_type": "code",
   "execution_count": null,
   "metadata": {},
   "outputs": [],
   "source": [
    "### Set the atomic PDF fit residual as our fit profile\n",
    "from diffpy.srfit.fitbase import Profile\n",
    "profile = Profile()\n",
    "profile.setObservedProfile(r, Gdiff)\n",
    "\n",
    "### set the MPDFcalculator grid to match the data\n",
    "mc.rmin = r.min()\n",
    "mc.rmax = r.max()\n",
    "mc.rstep = r[1] - r[0]\n",
    "\n",
    "### Make the FitContribution\n",
    "from diffpy.srfit.fitbase import FitContribution\n",
    "mfit = FitContribution('mfit')\n",
    "mfit.setProfile(profile)\n",
    "\n",
    "### Define the function that will calculate the mPDF\n",
    "def mpdf(ordscale, parascale, damp):\n",
    "    '''\n",
    "    ordscale: overall scale factor for the mPDF; related to magnitude\n",
    "              of the ordered magnetic moment.\n",
    "    parascale: scale factor related to the magnetic form factor;\n",
    "               contains no structural information.\n",
    "    damp: real-space damping term; equivalent to Qdamp\n",
    "    '''\n",
    "    mc.ordScale, mc.paraScale, mc.dampRate = ordscale, parascale, damp\n",
    "    \n",
    "    ### calculate and return the unnormalized mPDF\n",
    "    mcalc = mc.calc(both=True)[2]\n",
    "    return mcalc\n",
    "\n",
    "mfit.registerFunction(mpdf)\n",
    "mfit.setEquation(\"mpdf(ordscale, parascale, damp)\")\n",
    "\n",
    "### Make the FitRecipe and add the relevant variables\n",
    "from diffpy.srfit.fitbase import FitRecipe\n",
    "recipe = FitRecipe()\n",
    "\n",
    "### Give the PDFContribution to the FitRecipe\n",
    "recipe.addContribution(mfit)\n",
    "\n",
    "### Add the mPDF variables\n",
    "recipe.addVar(mfit.parascale, 4)\n",
    "recipe.addVar(mfit.ordscale, 0.5)\n",
    "recipe.addVar(mfit.damp, 0.01);"
   ]
  },
  {
   "cell_type": "markdown",
   "metadata": {},
   "source": [
    "### Run the refinement"
   ]
  },
  {
   "cell_type": "code",
   "execution_count": null,
   "metadata": {},
   "outputs": [],
   "source": [
    "### Run the refinement\n",
    "from scipy.optimize import least_squares\n",
    "\n",
    "# Turn off printout of iteration number.\n",
    "recipe.clearFitHooks()\n",
    "\n",
    "least_squares(recipe.residual, recipe.values)\n",
    "print(\"Final values:\", recipe.values)\n",
    "\n",
    "### Plot the results\n",
    "fit = mfit.evaluateEquation(\"mpdf\")\n",
    "\n",
    "ax=plt.figure().add_subplot(111)\n",
    "ax.plot(r, Gdiff, 'bo', label=\"mPDF data\", markerfacecolor='none', markeredgecolor='b')\n",
    "ax.plot(r, fit, 'r-', lw=3, label=\"mPDF fit\")\n",
    "ax.set_xlabel(r\"r ($\\AA$)\")\n",
    "ax.set_ylabel(r\"D ($\\AA^{-2}$)\")\n",
    "ax.set_xlim(xmax=mc.rmax)\n",
    "plt.legend(loc=1);"
   ]
  },
  {
   "cell_type": "code",
   "execution_count": null,
   "metadata": {},
   "outputs": [],
   "source": [
    "### Plot the total PDF (atomic + magnetic) with the total fit\n",
    "offset1 = 1.2*G.min()\n",
    "offset2 = offset1 - 8*(Gdiff - fit).max()\n",
    "\n",
    "# Make the figure.\n",
    "fig = plt.figure()\n",
    "ax = fig.add_subplot(111)\n",
    "ax.plot(r,G,marker='o',mfc='none',mec='b',linestyle='none') ### total observed PDF pattern \n",
    "ax.plot(r,Gcalc,'r-',lw=2) ### calculated atomic PDF\n",
    "ax.plot(r,Gdiff+offset1,marker='o',mfc='none',mec='b',linestyle='none') ### residual from atomic PDF fit\n",
    "ax.plot(r,fit+offset1,'r-',lw=2) ### calculated mPDF\n",
    "ax.plot(r,np.zeros_like(r)+offset2,'k:')\n",
    "ax.plot(r,Gdiff - fit + offset2,'g-') ### overall fit residual after including atomic and magnetic PDFs\n",
    "ax.set_xlim(xmin=0,xmax=mc.rmax)\n",
    "ax.set_xlabel('r ($\\AA$)')\n",
    "ax.set_ylabel('G ($\\AA^{-2}$)');"
   ]
  },
  {
   "cell_type": "markdown",
   "metadata": {},
   "source": [
    "### Determine the magnitude of the ordered moment from the fit"
   ]
  },
  {
   "cell_type": "markdown",
   "metadata": {},
   "source": [
    "If we call $A$ the nuclear scale factor, $B$ the mPDF ordered scale factor, $n_s$ the fraction of atoms in the system that are magnetic, and $\\langle b \\rangle$ the average nuclear scattering length, then the magnitude of the refined moment $\\mathrm{S_{fit}}$ is related to the nominal magnitude of the spin vectors $\\mathrm{S_{nom}}$ used in the magnetic structure through the equation $\\mathrm{S_{fit}} = \\sqrt{\\frac{\\mathrm{B}\\langle b \\rangle ^2}{\\mathrm{A} n_s}} \\mathrm{S_{nom}}$. When multiplied by the g factor (e.g. 2 for pure spins without any orbital contributions to the moment), this gives the ordered moment in Bohr magnetons."
   ]
  },
  {
   "cell_type": "code",
   "execution_count": null,
   "metadata": {},
   "outputs": [],
   "source": [
    "nucScale = 0.9518 ### refined nuclear scale factor taken from PDFgui\n",
    "\n",
    "### Calculate the average nuclear scattering length\n",
    "import periodictable as pt ### useful python package included in your installation of diffpy.mpdf\n",
    "bMn = pt.Mn.neutron.b_c\n",
    "bO = pt.O.neutron.b_c\n",
    "bAvg = 0.5*bMn+0.5*bO\n",
    "\n",
    "### define the ratio of magnetic atoms to total atoms in MnO\n",
    "ns = 0.5\n",
    "\n",
    "### determine the nominal spin magnitude from your structure\n",
    "Snom = np.linalg.norm(mstr.spins[0])\n",
    "\n",
    "### calculate the refined value of the ordered moment\n",
    "Sfit = 2*np.sqrt(mc.ordScale*bAvg**2/(nucScale*ns))*Snom\n",
    "print(\"Sfit =\", Sfit)"
   ]
  },
  {
   "cell_type": "markdown",
   "metadata": {},
   "source": [
    "#### This is in line with expectations for the S = 5/2 moment in MnO."
   ]
  }
 ],
 "metadata": {
  "kernelspec": {
   "display_name": "Python 3",
   "language": "python",
   "name": "python3"
  },
  "language_info": {
   "codemirror_mode": {
    "name": "ipython",
    "version": 3
   },
   "file_extension": ".py",
   "mimetype": "text/x-python",
   "name": "python",
   "nbconvert_exporter": "python",
   "pygments_lexer": "ipython3",
   "version": "3.6.8"
  }
 },
 "nbformat": 4,
 "nbformat_minor": 1
}

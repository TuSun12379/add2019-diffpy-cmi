{
 "cells": [
  {
   "cell_type": "code",
   "execution_count": null,
   "metadata": {},
   "outputs": [],
   "source": [
    "# initializations\n",
    "%matplotlib notebook\n",
    "import matplotlib\n",
    "# make figures smaller\n",
    "matplotlib.rc('figure', figsize=(5, 3.75))\n",
    "\n",
    "import numpy.linalg\n",
    "from scipy.optimize import leastsq\n",
    "from diffpy.srfit.fitbase import FitRecipe, FitResults\n",
    "from cdse_functions import differenceplot"
   ]
  },
  {
   "cell_type": "markdown",
   "metadata": {},
   "source": [
    "## PDF refinement of CdSe nanocluster"
   ]
  },
  {
   "cell_type": "markdown",
   "metadata": {},
   "source": [
    "We have x-ray PDF data measured from a solution of nanosized CdSe clusters.\n",
    "Here we show how to model them using a shape-corrected crystalline PDF and\n",
    "also with a finite-cluster model that contains all atom positions in the cluster.\n",
    "\n",
    "**Contents**\n",
    "\n",
    "> [Bulk PDF](#bulk-pdf)<br>\n",
    "> [Spherical shape correction](#spherical-shape-correction)<br>\n",
    "> [Spheroid shape correction](#pyobjcryst)<br>\n",
    "> [Finite cluster model](#FIXME)"
   ]
  },
  {
   "cell_type": "markdown",
   "metadata": {},
   "source": [
    "## Bulk PDF"
   ]
  },
  {
   "cell_type": "markdown",
   "metadata": {},
   "source": [
    "We will set up the shape-corrected PDF fits by tweaking a simple crystal PDF model.\n",
    "It is therefore convenient to define a function which creates crystal refinement from scratch. "
   ]
  },
  {
   "cell_type": "code",
   "execution_count": null,
   "metadata": {},
   "outputs": [],
   "source": [
    "# GLOBAL CONSTANTS\n",
    "c_crystalfile = 'CdSe_zinc-blende.cif'\n",
    "c_clusterfile = 'CdSe_T5.xyz'\n",
    "c_pdfdatafile = 'CdSe.gr'\n",
    "c_fitrange = (1, 20)\n",
    "c_qdamp = 0.06\n",
    "c_qmin = 0.9    # Qmin cutoff in X-ray data."
   ]
  },
  {
   "cell_type": "code",
   "execution_count": null,
   "metadata": {},
   "outputs": [],
   "source": [
    "def best_scale(ysim, yobs):\n",
    "    \"Return the best least-squares scaling of ysim that approximates yobs\"\n",
    "    sc = numpy.dot(yobs, ysim) / numpy.dot(ysim, ysim)\n",
    "    return sc\n",
    "\n",
    "\n",
    "def new_crystal_fit():\n",
    "    from diffpy.srfit.pdf import PDFContribution\n",
    "    from pyobjcryst import loadCrystal\n",
    "    gtot = PDFContribution('gtot')\n",
    "    gtot.qdamp = c_qdamp\n",
    "    gtot.loadData(c_pdfdatafile)\n",
    "    crst = loadCrystal(c_crystalfile)\n",
    "    gtot.addStructure('cdse', crst)\n",
    "    gtot.profile.setCalculationRange(*c_fitrange)\n",
    "    fit = FitRecipe()\n",
    "    fit.clearFitHooks()\n",
    "    fit.addContribution(gtot)\n",
    "    sc0 = best_scale(gtot.evaluate(), gtot.profile.y)\n",
    "    fit.addVar(gtot.scale, value=sc0)\n",
    "    fit.addVar(gtot.cdse.delta2, value=1)\n",
    "    fit.addVar(gtot.cdse.phase.sgpars.latpars.a)\n",
    "    fit.addVar(gtot.cdse.phase.Cd1.Biso, name='BisoCd')\n",
    "    fit.addVar(gtot.cdse.phase.Se1.Biso, name='BisoSe')\n",
    "    return fit"
   ]
  },
  {
   "cell_type": "markdown",
   "metadata": {},
   "source": [
    "Let us start with bulk crystal PDF model."
   ]
  },
  {
   "cell_type": "code",
   "execution_count": null,
   "metadata": {},
   "outputs": [],
   "source": [
    "fcrystal = new_crystal_fit()\n",
    "leastsq(fcrystal.residual, fcrystal.values)\n",
    "differenceplot(fcrystal, fig=1, title='crystal PDF');"
   ]
  },
  {
   "cell_type": "code",
   "execution_count": null,
   "metadata": {},
   "outputs": [],
   "source": [
    "rescrystal = FitResults(fcrystal)\n",
    "print(\"Rw =\", rescrystal.rw)"
   ]
  },
  {
   "cell_type": "markdown",
   "metadata": {},
   "source": [
    "## Spherical shape correction\n",
    "\n",
    "We will start with bulk PDF model and then\n",
    "add spherical shape correction factor to the PDF formula."
   ]
  },
  {
   "cell_type": "code",
   "execution_count": null,
   "metadata": {},
   "outputs": [],
   "source": [
    "fsphere = new_crystal_fit()\n",
    "\n",
    "# srfit has several shape functions of its own and\n",
    "# also allows to use shape factors from SasView when installed\n",
    "from diffpy.srfit.pdf.characteristicfunctions import sphericalCF\n",
    "# The sphericalCF needs to be registered so it is available in symbolic formula\n",
    "fsphere.gtot.registerFunction(sphericalCF, name='fsphere')\n",
    "print(\"old equation:\", fsphere.gtot.getEquation())\n",
    "fsphere.gtot.setEquation('scale * cdse * fsphere')\n",
    "print(\"new equation:\", fsphere.gtot.getEquation())\n",
    "# the sphericalCF argument `psize` is now available as a parameter in the fit\n",
    "# here we mark it for refinement\n",
    "fsphere.addVar(fsphere.gtot.psize, value=20)\n",
    "\n",
    "# fit it and plot it\n",
    "leastsq(fsphere.residual, fsphere.values)\n",
    "differenceplot(fsphere, fig=2, title='spherical shape correction');"
   ]
  },
  {
   "cell_type": "code",
   "execution_count": null,
   "metadata": {},
   "outputs": [],
   "source": [
    "ressphere = FitResults(fsphere)\n",
    "print(\"Rw =\", ressphere.rw)"
   ]
  },
  {
   "cell_type": "markdown",
   "metadata": {},
   "source": [
    "## Spheroid shape correction\n",
    "\n",
    "This is sphere stretched along 1 axis.  The shape function has\n",
    "2 arguments `psize` for the initial diabeter and `axrat` giving\n",
    "the ratio of the third axis."
   ]
  },
  {
   "cell_type": "code",
   "execution_count": null,
   "metadata": {},
   "outputs": [],
   "source": [
    "# let us call this fit `fegg` for a better naming clarity\n",
    "fegg = new_crystal_fit()\n",
    "from diffpy.srfit.pdf.characteristicfunctions import spheroidalCF2\n",
    "fegg.gtot.registerFunction(spheroidalCF2, name='eggshape')\n",
    "fegg.gtot.setEquation('scale * cdse * eggshape')\n",
    "fegg.addVar(fegg.gtot.psize, value=20)\n",
    "fegg.addVar(fegg.gtot.axrat, value=1)\n",
    "leastsq(fegg.residual, fegg.values)\n",
    "differenceplot(fegg, fig=3, title='spheroid shape correction');"
   ]
  },
  {
   "cell_type": "code",
   "execution_count": null,
   "metadata": {},
   "outputs": [],
   "source": [
    "resegg = FitResults(fegg)\n",
    "print(resegg)"
   ]
  },
  {
   "cell_type": "markdown",
   "metadata": {},
   "source": [
    "The *Rw* is almost the same as for spherical correction.\n",
    "Nearly full correlation between psize and axrat points to a poor model quality"
   ]
  },
  {
   "cell_type": "markdown",
   "metadata": {},
   "source": [
    "## Finite cluster model\n",
    "\n",
    "Here we simulate PDF with a finite CdSe cluster."
   ]
  },
  {
   "cell_type": "code",
   "execution_count": null,
   "metadata": {},
   "outputs": [],
   "source": [
    "def new_cdsecluster_fit():\n",
    "    from diffpy.srfit.pdf import PDFContribution\n",
    "    from diffpy.structure import loadStructure\n",
    "    gtot = PDFContribution('gtot')\n",
    "    gtot.qdamp = c_qdamp\n",
    "    gtot.setQmin(c_qmin)\n",
    "    gtot.loadData(c_pdfdatafile)\n",
    "    cluster = loadStructure(c_clusterfile)\n",
    "    gtot.addStructure('cdse', cluster, periodic=False)\n",
    "    gtot.profile.setCalculationRange(*c_fitrange)\n",
    "    fit = FitRecipe()\n",
    "    fit.clearFitHooks()\n",
    "    fit.addContribution(gtot)\n",
    "    sc0 = best_scale(gtot.evaluate(), gtot.profile.y)\n",
    "    fit.addVar(gtot.scale, sc0)\n",
    "    fit.addVar(gtot.cdse.delta2, value=1)\n",
    "    fit.newVar('expansion', value=0)\n",
    "    fit.newVar('BisoCd', 0.5)\n",
    "    fit.newVar('BisoSe', 0.5)\n",
    "    ph = gtot.cdse.phase\n",
    "    fit.constrain(ph.lattice.a, '(1 + expansion)')\n",
    "    fit.constrain(ph.lattice.b, '(1 + expansion)')\n",
    "    fit.constrain(ph.lattice.c, '(1 + expansion)')\n",
    "    for pa in gtot.cdse.phase.atoms:\n",
    "        if pa.atom.element == \"Cd\":\n",
    "            fit.constrain(pa.Biso, 'BisoCd')\n",
    "        if pa.atom.element == \"Se\":\n",
    "            fit.constrain(pa.Biso, 'BisoSe')\n",
    "    return fit\n",
    "\n",
    "#new_cdsecluster_fit().show()"
   ]
  },
  {
   "cell_type": "code",
   "execution_count": null,
   "metadata": {},
   "outputs": [],
   "source": [
    "fcluster = new_cdsecluster_fit()\n",
    "leastsq(fcluster.residual, fcluster.values)\n",
    "differenceplot(fcluster, title=\"fit with Cd52Se35 tetrahedral cluster\");"
   ]
  },
  {
   "cell_type": "code",
   "execution_count": null,
   "metadata": {},
   "outputs": [],
   "source": [
    "rescluster = FitResults(fcluster)\n",
    "print(rescluster)"
   ]
  },
  {
   "cell_type": "markdown",
   "metadata": {},
   "source": [
    "The finite cluster model shows excellent fit to the experiment at Rw = 0.12."
   ]
  },
  {
   "cell_type": "markdown",
   "metadata": {},
   "source": [
    "## Exercise\n",
    "\n",
    "Task: Perform cluster fit below assuming the full Q-range, i.e., with Qmin = 0.\n",
    "\n",
    "Hint: Qmin can be changed in existing fit using `somefit.gtot.setQmin()` function."
   ]
  }
 ],
 "metadata": {
  "kernelspec": {
   "display_name": "Python 3",
   "language": "python",
   "name": "python3"
  },
  "language_info": {
   "codemirror_mode": {
    "name": "ipython",
    "version": 3
   },
   "file_extension": ".py",
   "mimetype": "text/x-python",
   "name": "python",
   "nbconvert_exporter": "python",
   "pygments_lexer": "ipython3",
   "version": "3.6.8"
  }
 },
 "nbformat": 4,
 "nbformat_minor": 1
}

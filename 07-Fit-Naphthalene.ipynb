{
 "cells": [
  {
   "cell_type": "code",
   "execution_count": null,
   "metadata": {},
   "outputs": [],
   "source": [
    "# initializations\n",
    "%matplotlib notebook\n",
    "import matplotlib\n",
    "# make figures smaller\n",
    "matplotlib.rc('figure', figsize=(5, 3.75))\n",
    "import matplotlib.pyplot as plt\n",
    "\n",
    "import numpy.linalg\n",
    "from scipy.optimize import leastsq\n",
    "from diffpy.srfit.fitbase import FitRecipe, FitResults\n",
    "from diffpy.srreal.pdfcalculator import PDFCalculator\n",
    "from pyobjcryst import loadCrystal\n",
    "from cdse_functions import differenceplot  #FIXME"
   ]
  },
  {
   "cell_type": "code",
   "execution_count": null,
   "metadata": {},
   "outputs": [],
   "source": []
  },
  {
   "cell_type": "markdown",
   "metadata": {},
   "source": [
    "## PDF refinement of CdSe naphthalene"
   ]
  },
  {
   "cell_type": "markdown",
   "metadata": {},
   "source": [
    "We have x-ray PDF data measured from a solution of nanosized CdSe clusters.\n",
    "Here we show how to model them using a shape-corrected crystalline PDF and\n",
    "also with a finite-cluster model that contains all atom positions in the cluster.\n",
    "\n",
    "**Contents**\n",
    "\n",
    "> [Bulk PDF](#bulk-pdf)<br>\n",
    "> [Spherical shape correction](#spherical-shape-correction)<br>\n",
    "> [Spheroid shape correction](#pyobjcryst)<br>\n",
    "> [Finite cluster model](#FIXME)"
   ]
  },
  {
   "cell_type": "markdown",
   "metadata": {},
   "source": [
    "## Bulk PDF"
   ]
  },
  {
   "cell_type": "markdown",
   "metadata": {},
   "source": [
    "We will set up the shape-corrected PDF fits by tweaking a simple crystal PDF model.\n",
    "It is therefore convenient to define a function which creates crystal refinement from scratch. "
   ]
  },
  {
   "cell_type": "code",
   "execution_count": null,
   "metadata": {},
   "outputs": [],
   "source": [
    "# GLOBAL CONSTANTS\n",
    "c_crystalfile = 'naphthalene.cif'\n",
    "c_pdfdatafile = 'naphthalene.gr'\n",
    "c_fitrange = (1.1, 20)\n",
    "c_qdamp = 0.06\n",
    "c_bisoinitial = 0.5"
   ]
  },
  {
   "cell_type": "code",
   "execution_count": null,
   "metadata": {},
   "outputs": [],
   "source": [
    "def best_scale(ysim, yobs):\n",
    "    \"Return the best least-squares scaling of ysim that approximates yobs\"\n",
    "    sc = numpy.dot(yobs, ysim) / numpy.dot(ysim, ysim)\n",
    "    return sc\n",
    "\n",
    "\n",
    "def load_crystal_common_biso():\n",
    "    from pyobjcryst.crystal import CreateCrystalFromCIF\n",
    "    fp = open(c_crystalfile, 'rb')\n",
    "    # oneScatteringPowerPerElement sets all Carbons to have the same Biso\n",
    "    crst = CreateCrystalFromCIF(fp, oneScatteringPowerPerElement=True)\n",
    "    fp.close()\n",
    "    a = crst.GetScatterer(0)\n",
    "    spa = a.GetScatteringPower()\n",
    "    spa.Biso = c_bisoinitial\n",
    "    return crst\n",
    "\n",
    "    \n",
    "def load_molecular_crystal():\n",
    "    \"\"\"Load the CIF file and group all scatterers as one Molecule.\n",
    "\n",
    "    This assumes the asymmetric unit is a single whole Molecule,\n",
    "    i.e., there are no other molecules or independent atoms in\n",
    "    the crystal and the molecule does not need to be\n",
    "    symmetry-expanded.\n",
    "    \"\"\"\n",
    "    crst = load_crystal_common_biso()\n",
    "    from pyobjcryst.molecule import Molecule\n",
    "    # center of the molecule in fractional coordinates\n",
    "    xyzmol = np.array([0.0, 0.0, 0.0])\n",
    "    # move all Atoms from the Crystal to its rigid Molecule\n",
    "    mol = Molecule(crst, \"mol\")\n",
    "    atoms = [crst.GetScatterer(i) for i in range(crst.GetNbScatterer())]\n",
    "    for a in atoms:\n",
    "        xyzm = np.array([a.X, a.Y, a.Z]) - xyzmol\n",
    "        xc, yc, zc = crst.FractionalToOrthonormalCoords(*xyzm)\n",
    "        mol.AddAtom(xc, yc, zc, a.GetScatteringPower(), a.GetName())\n",
    "        crst.RemoveScatterer(a)\n",
    "    crst.AddScatterer(mol)\n",
    "    mol.X, mol.Y, mol.Z = xyzmol\n",
    "    return crst, mol\n",
    "\n",
    "if 0:\n",
    "    # check if molecular crystal is the same as the original\n",
    "    nph0 = load_crystal_common_biso()\n",
    "    nph1 = load_molecular_crystal()[0]\n",
    "    pc = PDFCalculator()\n",
    "    fig, ax = plt.subplots(num=1)\n",
    "    r0, g0 = pc(nph0)\n",
    "    r1, g1 = pc(nph1)\n",
    "    ax.plot(r0, g0, r1, g1 + 0.5)\n",
    "pass"
   ]
  },
  {
   "cell_type": "code",
   "execution_count": null,
   "metadata": {},
   "outputs": [],
   "source": [
    "def new_simple_fit():\n",
    "    from diffpy.srfit.pdf import PDFContribution\n",
    "    gtot = PDFContribution('gtot')\n",
    "    gtot.qdamp = c_qdamp\n",
    "    gtot.loadData(c_pdfdatafile)\n",
    "    crst = load_crystal_common_biso()\n",
    "    gtot.addStructure('nph', crst)\n",
    "    gtot.profile.setCalculationRange(*c_fitrange)\n",
    "    fit = FitRecipe()\n",
    "    fit.clearFitHooks()\n",
    "    fit.addContribution(gtot)\n",
    "    sc0 = best_scale(gtot.evaluate(), gtot.profile.y)\n",
    "    fit.addVar(gtot.scale, value=sc0)\n",
    "    ph = gtot.nph.phase\n",
    "    # cell parameters\n",
    "    fit.addVar(ph.a)\n",
    "    fit.addVar(ph.b)\n",
    "    fit.addVar(ph.c)\n",
    "    # pyobjcryst stores cell angles in radians.  we will use degrees\n",
    "    beta0 = np.degrees(ph.beta.value)\n",
    "    fit.newVar('beta', value=beta0)\n",
    "    fit.constrain(ph.beta, 'radians(beta)')\n",
    "    # all carbon species have the same displacement parameter,\n",
    "    # it is thus sufficient to do constrain for the first atom\n",
    "    fit.addVar(ph.C1.Biso, name='BisoC', value=c_bisoinitial)\n",
    "    return fit\n",
    "\n",
    "#new_simple_fit().show()"
   ]
  },
  {
   "cell_type": "markdown",
   "metadata": {},
   "source": [
    "Let us start with bulk crystal PDF model."
   ]
  },
  {
   "cell_type": "code",
   "execution_count": null,
   "metadata": {},
   "outputs": [],
   "source": [
    "fsimple = new_simple_fit()\n",
    "leastsq(fsimple.residual, fsimple.values)\n",
    "differenceplot(fsimple, fig=1, title='simple PDF refinement');"
   ]
  },
  {
   "cell_type": "code",
   "execution_count": null,
   "metadata": {},
   "outputs": [],
   "source": [
    "ressimple = FitResults(fsimple)\n",
    "print(\"Rw =\", ressimple.rw)"
   ]
  },
  {
   "cell_type": "code",
   "execution_count": null,
   "metadata": {},
   "outputs": [],
   "source": [
    "def fixqzero(q1, q2, q3):\n",
    "    ssq = q1**2 + q2**2 + q3**2\n",
    "    q0 = np.sqrt(1.0 - ssq) if ssq < 1 else 0.0\n",
    "    return q0\n",
    "\n",
    "def new_fancy_fit():\n",
    "    from diffpy.srfit.pdf import PDFContribution\n",
    "    gtot = PDFContribution('gtot')\n",
    "    gtot.qdamp = c_qdamp\n",
    "    gtot.loadData(c_pdfdatafile)\n",
    "    gtot.profile.setCalculationRange(*c_fitrange)\n",
    "    crst, mol = load_molecular_crystal()\n",
    "    # contribution from single molecule\n",
    "    gtot.addStructure('mol', mol, periodic=False)\n",
    "    # inter-molecular wide-peak contributions\n",
    "    wcrst, _ = load_molecular_crystal()\n",
    "    _, wmol = load_molecular_crystal()\n",
    "    gtot.addStructure('wcrst', wcrst, periodic=True)\n",
    "    gtot.addStructure('wmol', wmol, periodic=False)\n",
    "    gtot.setEquation('scale * (mol + wcrst - wmol)')\n",
    "    fit = FitRecipe()\n",
    "    fit.clearFitHooks()\n",
    "    fit.addContribution(gtot)\n",
    "    sc0 = best_scale(gtot.evaluate(), gtot.profile.y)\n",
    "    fit.addVar(gtot.scale, value=sc0)\n",
    "    wph = gtot.wcrst.phase\n",
    "    # cell parameters\n",
    "    fit.addVar(wph.a)\n",
    "    fit.addVar(wph.b)\n",
    "    fit.addVar(wph.c)\n",
    "    # pyobjcryst stores cell angles in radians.  we will use degrees\n",
    "    beta0 = np.degrees(wph.beta.value)\n",
    "    fit.newVar('beta', value=beta0)\n",
    "    fit.constrain(wph.beta, 'radians(beta)')\n",
    "    # use BisoC for intra-molecular displacements of carbon\n",
    "    fit.addVar(gtot.mol.phase.C1.Biso, name='BisoC', value=c_bisoinitial)\n",
    "    # use BisoM for big molecule-to-molecule displacements\n",
    "    fit.addVar(gtot.wcrst.phase.mol.C1.Biso, name='BisoM', \n",
    "               value=10*c_bisoinitial)\n",
    "    fit.constrain(gtot.wmol.phase.C1.Biso, 'BisoM')\n",
    "    # use mq1, ..., for orientation quaternion\n",
    "    pwmol = gtot.wcrst.phase.mol\n",
    "    fit.addVar(pwmol.q1, name='mq1')\n",
    "    fit.addVar(pwmol.q2, name='mq2')\n",
    "    fit.addVar(pwmol.q3, name='mq3')\n",
    "    fit.registerFunction(fixqzero, argnames=['mq1', 'mq2', 'mq3'])\n",
    "    fit.constrain(pwmol.q0, 'fixqzero(mq1, mq2, mq3)')\n",
    "    return fit\n",
    "\n",
    "#new_fancy_fit().show()"
   ]
  },
  {
   "cell_type": "markdown",
   "metadata": {},
   "source": [
    "## Spherical shape correction\n",
    "\n",
    "We will start with bulk PDF model and then\n",
    "add spherical shape correction factor to the PDF formula."
   ]
  },
  {
   "cell_type": "code",
   "execution_count": null,
   "metadata": {},
   "outputs": [],
   "source": [
    "ffancy = new_fancy_fit()\n",
    "ffancy.residual()\n",
    "fig, ax = plt.subplots(num=3)\n",
    "ax.plot(ffancy.gtot.evaluate())"
   ]
  },
  {
   "cell_type": "code",
   "execution_count": null,
   "metadata": {},
   "outputs": [],
   "source": [
    "ressphere = FitResults(fsphere)\n",
    "print(\"Rw =\", ressphere.rw)"
   ]
  },
  {
   "cell_type": "markdown",
   "metadata": {},
   "source": [
    "## Spheroid shape correction\n",
    "\n",
    "This is sphere stretched along 1 axis.  The shape function has\n",
    "2 arguments `psize` for the initial diabeter and `axrat` giving\n",
    "the ratio of the third axis."
   ]
  },
  {
   "cell_type": "code",
   "execution_count": null,
   "metadata": {},
   "outputs": [],
   "source": [
    "# let us call this fit `fegg` for a better naming clarity\n",
    "fegg = new_crystal_fit()\n",
    "from diffpy.srfit.pdf.characteristicfunctions import spheroidalCF2\n",
    "fegg.gtot.registerFunction(spheroidalCF2, name='eggshape')\n",
    "fegg.gtot.setEquation('scale * cdse * eggshape')\n",
    "fegg.addVar(fegg.gtot.psize, value=20)\n",
    "fegg.addVar(fegg.gtot.axrat, value=1)\n",
    "leastsq(fegg.residual, fegg.values)\n",
    "differenceplot(fegg, fig=3, title='spheroid shape correction');"
   ]
  },
  {
   "cell_type": "code",
   "execution_count": null,
   "metadata": {},
   "outputs": [],
   "source": [
    "resegg = FitResults(fegg)\n",
    "print(resegg)"
   ]
  },
  {
   "cell_type": "markdown",
   "metadata": {},
   "source": [
    "The *Rw* is almost the same as for spherical correction.\n",
    "Nearly full correlation between psize and axrat points to a poor model quality"
   ]
  },
  {
   "cell_type": "markdown",
   "metadata": {},
   "source": [
    "## Finite cluster model\n",
    "\n",
    "Here we simulate PDF with a finite CdSe cluster."
   ]
  },
  {
   "cell_type": "code",
   "execution_count": null,
   "metadata": {},
   "outputs": [],
   "source": [
    "def new_cdsecluster_fit():\n",
    "    from diffpy.srfit.pdf import PDFContribution\n",
    "    from diffpy.structure import loadStructure\n",
    "    gtot = PDFContribution('gtot')\n",
    "    gtot.qdamp = c_qdamp\n",
    "    gtot.setQmin(c_qmin)\n",
    "    gtot.loadData(c_pdfdatafile)\n",
    "    cluster = loadStructure(c_clusterfile)\n",
    "    gtot.addStructure('cdse', cluster, periodic=False)\n",
    "    gtot.profile.setCalculationRange(*c_fitrange)\n",
    "    fit = FitRecipe()\n",
    "    fit.clearFitHooks()\n",
    "    fit.addContribution(gtot)\n",
    "    sc0 = best_scale(gtot.evaluate(), gtot.profile.y)\n",
    "    fit.addVar(gtot.scale, sc0)\n",
    "    fit.addVar(gtot.cdse.delta2, value=1)\n",
    "    fit.newVar('expansion', value=0)\n",
    "    fit.newVar('BisoCd', 0.5)\n",
    "    fit.newVar('BisoSe', 0.5)\n",
    "    ph = gtot.cdse.phase\n",
    "    fit.constrain(ph.lattice.a, '(1 + expansion)')\n",
    "    fit.constrain(ph.lattice.b, '(1 + expansion)')\n",
    "    fit.constrain(ph.lattice.c, '(1 + expansion)')\n",
    "    for pa in gtot.cdse.phase.atoms:\n",
    "        if pa.atom.element == \"Cd\":\n",
    "            fit.constrain(pa.Biso, 'BisoCd')\n",
    "        if pa.atom.element == \"Se\":\n",
    "            fit.constrain(pa.Biso, 'BisoSe')\n",
    "    return fit\n",
    "\n",
    "#new_cdsecluster_fit().show()"
   ]
  },
  {
   "cell_type": "code",
   "execution_count": null,
   "metadata": {},
   "outputs": [],
   "source": [
    "fcluster = new_cdsecluster_fit()\n",
    "leastsq(fcluster.residual, fcluster.values)\n",
    "differenceplot(fcluster, title=\"fit with Cd52Se35 tetrahedral cluster\");"
   ]
  },
  {
   "cell_type": "code",
   "execution_count": null,
   "metadata": {},
   "outputs": [],
   "source": [
    "rescluster = FitResults(fcluster)\n",
    "print(rescluster)"
   ]
  },
  {
   "cell_type": "markdown",
   "metadata": {},
   "source": [
    "The finite cluster model shows excellent fit to the experiment at Rw = 0.12."
   ]
  },
  {
   "cell_type": "markdown",
   "metadata": {},
   "source": [
    "## Exercise\n",
    "\n",
    "Task: Perform cluster fit below assuming the full Q-range, i.e., with Qmin = 0.\n",
    "\n",
    "Hint: Qmin can be changed in existing fit using `somefit.gtot.setQmin()` function."
   ]
  }
 ],
 "metadata": {
  "kernelspec": {
   "display_name": "Python 3",
   "language": "python",
   "name": "python3"
  },
  "language_info": {
   "codemirror_mode": {
    "name": "ipython",
    "version": 3
   },
   "file_extension": ".py",
   "mimetype": "text/x-python",
   "name": "python",
   "nbconvert_exporter": "python",
   "pygments_lexer": "ipython3",
   "version": "3.6.8"
  }
 },
 "nbformat": 4,
 "nbformat_minor": 1
}
